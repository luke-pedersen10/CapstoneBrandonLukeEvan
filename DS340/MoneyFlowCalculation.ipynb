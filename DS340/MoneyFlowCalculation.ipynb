{
 "cells": [
  {
   "cell_type": "code",
   "execution_count": 10,
   "metadata": {},
   "outputs": [],
   "source": [
    "import yfinance as yf\n",
    "import pandas as pd"
   ]
  },
  {
   "cell_type": "code",
   "execution_count": 11,
   "metadata": {},
   "outputs": [],
   "source": [
    "\n",
    "\n",
    "def calculate_money_flow(tickers, period='5d', interval='1d'):\n",
    "    \"\"\"\n",
    "    Calculate the money flow for a list of stocks using yfinance.\n",
    "    \n",
    "    Parameters:\n",
    "        tickers (list): List of stock symbols.\n",
    "        period (str): Time period to fetch data for (default: '5d').\n",
    "        interval (str): Data interval (default: '1d').\n",
    "    \n",
    "    Returns:\n",
    "        DataFrame: A DataFrame containing the money flow for each stock.\n",
    "    \"\"\"\n",
    "    # Download data for all tickers at once\n",
    "    data = yf.download(tickers, period=period, interval=interval)\n",
    "    results = []\n",
    "    \n",
    "    # Loop over each ticker to process its data individually\n",
    "    for ticker in tickers:\n",
    "        # Check if the data has a MultiIndex (as is the case when downloading multiple tickers)\n",
    "        if isinstance(data.columns, pd.MultiIndex):\n",
    "            # Extract data for this ticker using the .xs method.\n",
    "            # The MultiIndex is organized with attributes as level 0 and ticker symbols as level 1.\n",
    "            ticker_data = data.xs(ticker, axis=1, level=1)\n",
    "        else:\n",
    "            ticker_data = data.copy()\n",
    "        \n",
    "        # Verify required columns exist\n",
    "        required_columns = ['High', 'Low', 'Close', 'Volume']\n",
    "        for col in required_columns:\n",
    "            if col not in ticker_data.columns:\n",
    "                raise KeyError(f\"Missing expected column: {col} for ticker: {ticker}\")\n",
    "        \n",
    "        # Calculate Typical Price\n",
    "        ticker_data['Typical Price'] = (ticker_data['High'] + ticker_data['Low'] + ticker_data['Close']) / 3\n",
    "        \n",
    "        # Calculate Money Flow\n",
    "        ticker_data['Money Flow'] = ticker_data['Typical Price'] * ticker_data['Volume']\n",
    "        \n",
    "        # Add the ticker as a column for identification\n",
    "        ticker_data['Ticker'] = ticker\n",
    "        \n",
    "        # Append the results for this ticker (reset index to make Date a column)\n",
    "        results.append(ticker_data[['Ticker', 'Money Flow']].reset_index())\n",
    "    \n",
    "    # Combine all individual ticker results into one DataFrame\n",
    "    result_df = pd.concat(results, ignore_index=True)\n",
    "    return result_df\n",
    "\n",
    "\n"
   ]
  },
  {
   "cell_type": "code",
   "execution_count": 12,
   "metadata": {},
   "outputs": [
    {
     "name": "stderr",
     "output_type": "stream",
     "text": [
      "[*********************100%***********************]  3 of 3 completed"
     ]
    },
    {
     "name": "stdout",
     "output_type": "stream",
     "text": [
      "Price       Date Ticker    Money Flow\n",
      "0     2025-02-28   AAPL  1.352881e+10\n",
      "1     2025-03-03   AAPL  1.129538e+10\n",
      "2     2025-03-04   AAPL  1.274441e+10\n",
      "3     2025-03-05   AAPL  1.103744e+10\n",
      "4     2025-03-06   AAPL  3.982508e+09\n",
      "5     2025-02-28   MSFT  1.293234e+10\n",
      "6     2025-03-03   MSFT  8.999615e+09\n",
      "7     2025-03-04   MSFT  1.136734e+10\n",
      "8     2025-03-05   MSFT  9.298466e+09\n",
      "9     2025-03-06   MSFT  3.456119e+09\n",
      "10    2025-02-28   TSLA  3.318421e+10\n",
      "11    2025-03-03   TSLA  3.335160e+10\n",
      "12    2025-03-04   TSLA  3.455838e+10\n",
      "13    2025-03-05   TSLA  2.584143e+10\n",
      "14    2025-03-06   TSLA  1.328673e+10\n"
     ]
    },
    {
     "name": "stderr",
     "output_type": "stream",
     "text": [
      "\n",
      "/var/folders/39/953q32fx2pgd35pdr0s2p0r00000gn/T/ipykernel_57452/1239526293.py:34: SettingWithCopyWarning: \n",
      "A value is trying to be set on a copy of a slice from a DataFrame.\n",
      "Try using .loc[row_indexer,col_indexer] = value instead\n",
      "\n",
      "See the caveats in the documentation: https://pandas.pydata.org/pandas-docs/stable/user_guide/indexing.html#returning-a-view-versus-a-copy\n",
      "  ticker_data['Typical Price'] = (ticker_data['High'] + ticker_data['Low'] + ticker_data['Close']) / 3\n",
      "/var/folders/39/953q32fx2pgd35pdr0s2p0r00000gn/T/ipykernel_57452/1239526293.py:37: SettingWithCopyWarning: \n",
      "A value is trying to be set on a copy of a slice from a DataFrame.\n",
      "Try using .loc[row_indexer,col_indexer] = value instead\n",
      "\n",
      "See the caveats in the documentation: https://pandas.pydata.org/pandas-docs/stable/user_guide/indexing.html#returning-a-view-versus-a-copy\n",
      "  ticker_data['Money Flow'] = ticker_data['Typical Price'] * ticker_data['Volume']\n",
      "/var/folders/39/953q32fx2pgd35pdr0s2p0r00000gn/T/ipykernel_57452/1239526293.py:40: SettingWithCopyWarning: \n",
      "A value is trying to be set on a copy of a slice from a DataFrame.\n",
      "Try using .loc[row_indexer,col_indexer] = value instead\n",
      "\n",
      "See the caveats in the documentation: https://pandas.pydata.org/pandas-docs/stable/user_guide/indexing.html#returning-a-view-versus-a-copy\n",
      "  ticker_data['Ticker'] = ticker\n",
      "/var/folders/39/953q32fx2pgd35pdr0s2p0r00000gn/T/ipykernel_57452/1239526293.py:34: SettingWithCopyWarning: \n",
      "A value is trying to be set on a copy of a slice from a DataFrame.\n",
      "Try using .loc[row_indexer,col_indexer] = value instead\n",
      "\n",
      "See the caveats in the documentation: https://pandas.pydata.org/pandas-docs/stable/user_guide/indexing.html#returning-a-view-versus-a-copy\n",
      "  ticker_data['Typical Price'] = (ticker_data['High'] + ticker_data['Low'] + ticker_data['Close']) / 3\n",
      "/var/folders/39/953q32fx2pgd35pdr0s2p0r00000gn/T/ipykernel_57452/1239526293.py:37: SettingWithCopyWarning: \n",
      "A value is trying to be set on a copy of a slice from a DataFrame.\n",
      "Try using .loc[row_indexer,col_indexer] = value instead\n",
      "\n",
      "See the caveats in the documentation: https://pandas.pydata.org/pandas-docs/stable/user_guide/indexing.html#returning-a-view-versus-a-copy\n",
      "  ticker_data['Money Flow'] = ticker_data['Typical Price'] * ticker_data['Volume']\n",
      "/var/folders/39/953q32fx2pgd35pdr0s2p0r00000gn/T/ipykernel_57452/1239526293.py:40: SettingWithCopyWarning: \n",
      "A value is trying to be set on a copy of a slice from a DataFrame.\n",
      "Try using .loc[row_indexer,col_indexer] = value instead\n",
      "\n",
      "See the caveats in the documentation: https://pandas.pydata.org/pandas-docs/stable/user_guide/indexing.html#returning-a-view-versus-a-copy\n",
      "  ticker_data['Ticker'] = ticker\n",
      "/var/folders/39/953q32fx2pgd35pdr0s2p0r00000gn/T/ipykernel_57452/1239526293.py:34: SettingWithCopyWarning: \n",
      "A value is trying to be set on a copy of a slice from a DataFrame.\n",
      "Try using .loc[row_indexer,col_indexer] = value instead\n",
      "\n",
      "See the caveats in the documentation: https://pandas.pydata.org/pandas-docs/stable/user_guide/indexing.html#returning-a-view-versus-a-copy\n",
      "  ticker_data['Typical Price'] = (ticker_data['High'] + ticker_data['Low'] + ticker_data['Close']) / 3\n",
      "/var/folders/39/953q32fx2pgd35pdr0s2p0r00000gn/T/ipykernel_57452/1239526293.py:37: SettingWithCopyWarning: \n",
      "A value is trying to be set on a copy of a slice from a DataFrame.\n",
      "Try using .loc[row_indexer,col_indexer] = value instead\n",
      "\n",
      "See the caveats in the documentation: https://pandas.pydata.org/pandas-docs/stable/user_guide/indexing.html#returning-a-view-versus-a-copy\n",
      "  ticker_data['Money Flow'] = ticker_data['Typical Price'] * ticker_data['Volume']\n",
      "/var/folders/39/953q32fx2pgd35pdr0s2p0r00000gn/T/ipykernel_57452/1239526293.py:40: SettingWithCopyWarning: \n",
      "A value is trying to be set on a copy of a slice from a DataFrame.\n",
      "Try using .loc[row_indexer,col_indexer] = value instead\n",
      "\n",
      "See the caveats in the documentation: https://pandas.pydata.org/pandas-docs/stable/user_guide/indexing.html#returning-a-view-versus-a-copy\n",
      "  ticker_data['Ticker'] = ticker\n"
     ]
    }
   ],
   "source": [
    "tickers = ['AAPL', 'MSFT', 'TSLA']\n",
    "money_flow_data = calculate_money_flow(tickers)\n",
    "print(money_flow_data)"
   ]
  }
 ],
 "metadata": {
  "kernelspec": {
   "display_name": "Python 3",
   "language": "python",
   "name": "python3"
  },
  "language_info": {
   "codemirror_mode": {
    "name": "ipython",
    "version": 3
   },
   "file_extension": ".py",
   "mimetype": "text/x-python",
   "name": "python",
   "nbconvert_exporter": "python",
   "pygments_lexer": "ipython3",
   "version": "3.10.4"
  }
 },
 "nbformat": 4,
 "nbformat_minor": 2
}
